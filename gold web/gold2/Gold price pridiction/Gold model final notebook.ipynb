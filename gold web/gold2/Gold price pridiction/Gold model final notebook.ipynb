{
 "cells": [
  {
   "cell_type": "code",
   "execution_count": null,
   "id": "5736e531",
   "metadata": {},
   "outputs": [],
   "source": [
    "import numpy as np # linear algebra\n",
    "import pandas as pd\n",
    "import os\n",
    "for dirname, _, filenames in os.walk('/kaggle/input'):\n",
    "    for filename in filenames:\n",
    "        print(os.path.join(dirname, filename))"
   ]
  },
  {
   "cell_type": "code",
   "execution_count": null,
   "id": "562e149e",
   "metadata": {},
   "outputs": [],
   "source": [
    "!pip install pandas_profiling"
   ]
  },
  {
   "cell_type": "code",
   "execution_count": null,
   "id": "744519f1",
   "metadata": {},
   "outputs": [],
   "source": [
    "import numpy as np # linear algebra\n",
    "import pandas as pd # data processing, CSV file I/O (e.g. pd.read_csv)\n",
    "import matplotlib.pyplot as plt #plotting graphs and chaarts\n",
    "import seaborn as sns #drawing statistical graphics\n",
    "%matplotlib inline\n",
    "import pandas_profiling as pp\n",
    "from sklearn.model_selection import train_test_split\n",
    "from sklearn.ensemble import RandomForestRegressor\n",
    "from sklearn import metrics"
   ]
  },
  {
   "cell_type": "code",
   "execution_count": null,
   "id": "0b5b733c",
   "metadata": {},
   "outputs": [],
   "source": [
    "red_grad = ['#FF0000', '#BF0000', '#800000', '#400000', '#000000']\n",
    "pink_grad = ['#8A0030', '#BA1141', '#FF5C8A', '#FF99B9', '#FFDEEB']\n",
    "purple_grad = ['#4C0028', '#7F0043', '#8E004C', '#A80059', '#C10067']\n",
    "color_mix = ['#F38BB2', '#FFB9CF', '#FFD7D7', '#F17881', '#E7525B']\n",
    "black_grad = ['#100C07', '#3E3B39', '#6D6A6A', '#9B9A9C', '#CAC9CD']\n",
    "sns.palplot(red_grad)\n",
    "sns.palplot(pink_grad)\n",
    "sns.palplot(purple_grad)\n",
    "sns.palplot(color_mix)\n",
    "sns.palplot(black_grad)"
   ]
  },
  {
   "cell_type": "code",
   "execution_count": null,
   "id": "522460a4",
   "metadata": {},
   "outputs": [],
   "source": [
    "# --- Importing Dataset ---\n",
    "gold_data = pd.read_csv(\"gld_price_data.csv\")\n",
    "\n",
    "# --- Reading Dataset ---\n",
    "gold_data.head().style.background_gradient(cmap='Reds').set_properties(**{'font-family': 'Segoe UI'}).hide_index()"
   ]
  },
  {
   "cell_type": "code",
   "execution_count": null,
   "id": "45fbf4bb",
   "metadata": {},
   "outputs": [],
   "source": [
    "gold_data.isna().sum()"
   ]
  },
  {
   "cell_type": "code",
   "execution_count": null,
   "id": "5af0fccd",
   "metadata": {},
   "outputs": [],
   "source": [
    "gold_data.describe().style.background_gradient(cmap='Reds').set_properties(**{'font-family': 'Segoe UI'}).hide_index()"
   ]
  },
  {
   "cell_type": "code",
   "execution_count": null,
   "id": "775a0dd9",
   "metadata": {},
   "outputs": [],
   "source": [
    "print('\\033[1m'+'.: Dataset Info :.'+'\\033[0m')\n",
    "print('*' * 30)\n",
    "print('Total Rows:'+'\\033[1m', gold_data.shape[0])\n",
    "print('\\033[0m'+'Total Columns:'+'\\033[1m', gold_data.shape[1])\n",
    "print('\\033[0m'+'*' * 30)\n",
    "print('\\n')\n",
    "\n",
    "# --- Print Dataset Detail ---\n",
    "print('\\033[1m'+'.: Dataset Details :.'+'\\033[0m')\n",
    "print('*' * 30)\n",
    "gold_data.info(memory_usage = False)"
   ]
  },
  {
   "cell_type": "code",
   "execution_count": null,
   "id": "cda73ab6",
   "metadata": {},
   "outputs": [],
   "source": [
    "pp.ProfileReport(gold_data)"
   ]
  },
  {
   "cell_type": "code",
   "execution_count": null,
   "id": "0598cffc",
   "metadata": {},
   "outputs": [],
   "source": [
    "sns.jointplot(x='SLV',y='GLD',kind='hex',data=gold_data)"
   ]
  },
  {
   "cell_type": "code",
   "execution_count": null,
   "id": "2ccc0258",
   "metadata": {},
   "outputs": [],
   "source": [
    "sns.jointplot(x='EUR/USD',y='GLD',kind='hex',data=gold_data)"
   ]
  },
  {
   "cell_type": "code",
   "execution_count": null,
   "id": "33f07403",
   "metadata": {},
   "outputs": [],
   "source": [
    "sns.jointplot(x='USO',y='GLD',kind='hex',data=gold_data)"
   ]
  },
  {
   "cell_type": "code",
   "execution_count": null,
   "id": "4eb8ec38",
   "metadata": {},
   "outputs": [],
   "source": [
    "sns.jointplot(x='SPX',y='GLD',kind='hex',data=gold_data)"
   ]
  },
  {
   "cell_type": "code",
   "execution_count": null,
   "id": "93d229d8",
   "metadata": {},
   "outputs": [],
   "source": [
    "sns.heatmap(gold_data.corr())"
   ]
  },
  {
   "cell_type": "code",
   "execution_count": null,
   "id": "ca303944",
   "metadata": {},
   "outputs": [],
   "source": [
    "sns.pairplot(gold_data)"
   ]
  },
  {
   "cell_type": "code",
   "execution_count": null,
   "id": "a4bb39b9",
   "metadata": {},
   "outputs": [],
   "source": [
    "!pip install autoviz"
   ]
  },
  {
   "cell_type": "code",
   "execution_count": null,
   "id": "80a0e19a",
   "metadata": {},
   "outputs": [],
   "source": [
    "plt.figure(figsize = (10, 5))\n",
    "from autoviz.AutoViz_Class import AutoViz_Class\n",
    "AV = AutoViz_Class()\n",
    "df_av = AV.AutoViz('gld_price_data.csv')\n",
    "plt.show()"
   ]
  },
  {
   "cell_type": "code",
   "execution_count": null,
   "id": "63578b78",
   "metadata": {},
   "outputs": [],
   "source": [
    "correlation = gold_data.corr()\n",
    "# constructing a heatmap to understand the correlatiom\n",
    "plt.figure(figsize = (8,8))\n",
    "sns.heatmap(correlation, cbar=True, square=True, fmt='.1f',annot=True, annot_kws={'size':8}, cmap='Blues')"
   ]
  },
  {
   "cell_type": "code",
   "execution_count": null,
   "id": "ed873355",
   "metadata": {},
   "outputs": [],
   "source": [
    "print(correlation['GLD'])"
   ]
  },
  {
   "cell_type": "code",
   "execution_count": null,
   "id": "4ebdfdc9",
   "metadata": {},
   "outputs": [],
   "source": [
    "sns.distplot(gold_data['GLD'],color='green')"
   ]
  },
  {
   "cell_type": "code",
   "execution_count": null,
   "id": "b34a9312",
   "metadata": {},
   "outputs": [],
   "source": [
    "X = gold_data.drop(['Date','GLD'],axis=1)\n",
    "Y = gold_data['GLD']"
   ]
  },
  {
   "cell_type": "code",
   "execution_count": null,
   "id": "085076e6",
   "metadata": {},
   "outputs": [],
   "source": [
    "print(X)"
   ]
  },
  {
   "cell_type": "code",
   "execution_count": null,
   "id": "0f5aea87",
   "metadata": {},
   "outputs": [],
   "source": []
  },
  {
   "cell_type": "code",
   "execution_count": null,
   "id": "33365520",
   "metadata": {},
   "outputs": [],
   "source": [
    "print(Y)"
   ]
  },
  {
   "cell_type": "code",
   "execution_count": null,
   "id": "fc8cec69",
   "metadata": {},
   "outputs": [],
   "source": [
    "X_train, X_test, Y_train, Y_test = train_test_split(X, Y, test_size = 0.2, random_state=2)"
   ]
  },
  {
   "cell_type": "code",
   "execution_count": null,
   "id": "d3ee0eb3",
   "metadata": {},
   "outputs": [],
   "source": [
    "regressor = RandomForestRegressor(n_estimators=100)"
   ]
  },
  {
   "cell_type": "code",
   "execution_count": null,
   "id": "027208cf",
   "metadata": {},
   "outputs": [],
   "source": [
    "regressor.fit(X_train,Y_train)"
   ]
  },
  {
   "cell_type": "code",
   "execution_count": null,
   "id": "2e8addc0",
   "metadata": {},
   "outputs": [],
   "source": [
    "test_data_prediction = regressor.predict(X_test)"
   ]
  },
  {
   "cell_type": "code",
   "execution_count": null,
   "id": "bdd70220",
   "metadata": {},
   "outputs": [],
   "source": [
    "print(test_data_prediction)"
   ]
  },
  {
   "cell_type": "code",
   "execution_count": null,
   "id": "923365ab",
   "metadata": {},
   "outputs": [],
   "source": [
    "# R squared error\n",
    "error_score = metrics.r2_score(Y_test, test_data_prediction)\n",
    "print(\"R squared error : \", error_score)"
   ]
  },
  {
   "cell_type": "code",
   "execution_count": null,
   "id": "f4b9a8f4",
   "metadata": {},
   "outputs": [],
   "source": [
    "Y_test = list(Y_test)"
   ]
  },
  {
   "cell_type": "code",
   "execution_count": null,
   "id": "0102c858",
   "metadata": {},
   "outputs": [],
   "source": [
    "plt.plot(Y_test, color='blue', label = 'Actual Value')\n",
    "plt.plot(test_data_prediction, color='green', label='Predicted Value')\n",
    "plt.title('Actual Price vs Predicted Price')\n",
    "plt.xlabel('Number of values')\n",
    "plt.ylabel('GLD Price')\n",
    "plt.legend()\n",
    "plt.show()"
   ]
  },
  {
   "cell_type": "code",
   "execution_count": null,
   "id": "55bf9937",
   "metadata": {},
   "outputs": [],
   "source": []
  }
 ],
 "metadata": {
  "kernelspec": {
   "display_name": "Python 3",
   "language": "python",
   "name": "python3"
  },
  "language_info": {
   "codemirror_mode": {
    "name": "ipython",
    "version": 3
   },
   "file_extension": ".py",
   "mimetype": "text/x-python",
   "name": "python",
   "nbconvert_exporter": "python",
   "pygments_lexer": "ipython3",
   "version": "3.12.3"
  },
  "vscode": {
   "interpreter": {
    "hash": "d0ae860f61a7332b7d4bbbcbc8acf1aa3c9ef9494c188d5322a7476ec2ddf8c3"
   }
  }
 },
 "nbformat": 4,
 "nbformat_minor": 5
}
